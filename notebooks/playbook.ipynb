{
 "cells": [
  {
   "cell_type": "code",
   "execution_count": 15,
   "metadata": {},
   "outputs": [],
   "source": [
    "import torch\n",
    "import torch.nn as nn\n",
    "from torchvision import datasets, transforms\n",
    "from torch.utils.data import DataLoader\n",
    "\n",
    "from models.vit import VisionTransformer"
   ]
  },
  {
   "cell_type": "code",
   "execution_count": 16,
   "metadata": {},
   "outputs": [
    {
     "name": "stdout",
     "output_type": "stream",
     "text": [
      "Using device: cpu\n"
     ]
    }
   ],
   "source": [
    "import torch\n",
    "\n",
    "device = torch.device('cuda' if torch.cuda.is_available() else 'cpu')\n",
    "print(f'Using device: {device}')"
   ]
  },
  {
   "cell_type": "code",
   "execution_count": 17,
   "metadata": {},
   "outputs": [
    {
     "name": "stderr",
     "output_type": "stream",
     "text": [
      "/Users/GuidoDeFilippo/Columbia/Data_Mining/transformer_env/lib/python3.10/site-packages/torch/nn/modules/transformer.py:307: UserWarning: enable_nested_tensor is True, but self.use_nested_tensor is False because encoder_layer.self_attn.batch_first was not True(use batch_first for better inference performance)\n",
      "  warnings.warn(f\"enable_nested_tensor is True, but self.use_nested_tensor is False because {why_not_sparsity_fast_path}\")\n"
     ]
    }
   ],
   "source": [
    "model = VisionTransformer(\n",
    "    img_size=32,\n",
    "    patch_size=4,\n",
    "    in_channels=3,\n",
    "    num_classes=10,\n",
    "    embed_dim=256,\n",
    "    num_heads=8,\n",
    "    hidden_dim=512,\n",
    "    num_layers=6,\n",
    "    dropout=0.1\n",
    ").to(device)"
   ]
  },
  {
   "cell_type": "code",
   "execution_count": 18,
   "metadata": {},
   "outputs": [],
   "source": [
    "criterion = nn.CrossEntropyLoss()\n",
    "optimizer = torch.optim.AdamW(model.parameters(), lr=0.001, weight_decay=0.01)"
   ]
  },
  {
   "cell_type": "code",
   "execution_count": null,
   "metadata": {},
   "outputs": [],
   "source": [
    "batch_size = 128\n",
    "\n",
    "train_loader = DataLoader(\n",
    "    train_dataset, batch_size=batch_size, shuffle=True, num_workers=4)\n",
    "\n",
    "test_loader = DataLoader(\n",
    "    test_dataset, batch_size=batch_size, shuffle=False, num_workers=4)"
   ]
  },
  {
   "cell_type": "code",
   "execution_count": 20,
   "metadata": {},
   "outputs": [],
   "source": [
    "def relu_kernel_feature_map(x):\n",
    "    return torch.nn.functional.relu(x)"
   ]
  },
  {
   "cell_type": "code",
   "execution_count": 21,
   "metadata": {},
   "outputs": [],
   "source": [
    "class PerformerAttention(nn.Module):\n",
    "    def __init__(self, embed_dim, num_heads):\n",
    "        super(PerformerAttention, self).__init__()\n",
    "        self.embed_dim = embed_dim\n",
    "        self.num_heads = num_heads\n",
    "        self.head_dim = embed_dim // num_heads\n",
    "\n",
    "        assert self.head_dim * num_heads == embed_dim, \"embed_dim must be divisible by num_heads\"\n",
    "\n",
    "        self.query_proj = nn.Linear(embed_dim, embed_dim)\n",
    "        self.key_proj = nn.Linear(embed_dim, embed_dim)\n",
    "        self.value_proj = nn.Linear(embed_dim, embed_dim)\n",
    "        self.out_proj = nn.Linear(embed_dim, embed_dim)\n",
    "\n",
    "    def forward(self, query, key, value):\n",
    "        batch_size, seq_length, embed_dim = query.size()\n",
    "\n",
    "        # Linear projections\n",
    "        Q = self.query_proj(query)  # [batch_size, seq_length, embed_dim]\n",
    "        K = self.key_proj(key)\n",
    "        V = self.value_proj(value)\n",
    "\n",
    "        # Reshape for multi-head attention\n",
    "        Q = Q.view(batch_size, seq_length, self.num_heads, self.head_dim)\n",
    "        K = K.view(batch_size, seq_length, self.num_heads, self.head_dim)\n",
    "        V = V.view(batch_size, seq_length, self.num_heads, self.head_dim)\n",
    "\n",
    "        # Apply kernel feature map\n",
    "        Q = relu_kernel_feature_map(Q)  # [batch_size, seq_length, num_heads, head_dim]\n",
    "        K = relu_kernel_feature_map(K)\n",
    "\n",
    "        # Compute attention (linear complexity)\n",
    "        KV = torch.einsum('blhd,blhe->bhde', K, V)  # [batch_size, num_heads, head_dim, head_dim]\n",
    "        QKV = torch.einsum('blhd,bhde->blhe', Q, KV)  # [batch_size, seq_length, num_heads, head_dim]\n",
    "\n",
    "        # Reshape and project out\n",
    "        QKV = QKV.contiguous().view(batch_size, seq_length, embed_dim)\n",
    "        output = self.out_proj(QKV)\n",
    "\n",
    "        return output"
   ]
  },
  {
   "cell_type": "code",
   "execution_count": 25,
   "metadata": {},
   "outputs": [
    {
     "name": "stdout",
     "output_type": "stream",
     "text": [
      "Checkpoint type: <class 'collections.OrderedDict'>\n",
      "Checkpoint keys: odict_keys(['cls_token', 'patch_embed.proj.weight', 'patch_embed.proj.bias', 'pos_embed.pe', 'encoder.transformer_encoder.layers.0.self_attn.in_proj_weight', 'encoder.transformer_encoder.layers.0.self_attn.in_proj_bias', 'encoder.transformer_encoder.layers.0.self_attn.out_proj.weight', 'encoder.transformer_encoder.layers.0.self_attn.out_proj.bias', 'encoder.transformer_encoder.layers.0.linear1.weight', 'encoder.transformer_encoder.layers.0.linear1.bias', 'encoder.transformer_encoder.layers.0.linear2.weight', 'encoder.transformer_encoder.layers.0.linear2.bias', 'encoder.transformer_encoder.layers.0.norm1.weight', 'encoder.transformer_encoder.layers.0.norm1.bias', 'encoder.transformer_encoder.layers.0.norm2.weight', 'encoder.transformer_encoder.layers.0.norm2.bias', 'encoder.transformer_encoder.layers.1.self_attn.in_proj_weight', 'encoder.transformer_encoder.layers.1.self_attn.in_proj_bias', 'encoder.transformer_encoder.layers.1.self_attn.out_proj.weight', 'encoder.transformer_encoder.layers.1.self_attn.out_proj.bias', 'encoder.transformer_encoder.layers.1.linear1.weight', 'encoder.transformer_encoder.layers.1.linear1.bias', 'encoder.transformer_encoder.layers.1.linear2.weight', 'encoder.transformer_encoder.layers.1.linear2.bias', 'encoder.transformer_encoder.layers.1.norm1.weight', 'encoder.transformer_encoder.layers.1.norm1.bias', 'encoder.transformer_encoder.layers.1.norm2.weight', 'encoder.transformer_encoder.layers.1.norm2.bias', 'encoder.transformer_encoder.layers.2.self_attn.in_proj_weight', 'encoder.transformer_encoder.layers.2.self_attn.in_proj_bias', 'encoder.transformer_encoder.layers.2.self_attn.out_proj.weight', 'encoder.transformer_encoder.layers.2.self_attn.out_proj.bias', 'encoder.transformer_encoder.layers.2.linear1.weight', 'encoder.transformer_encoder.layers.2.linear1.bias', 'encoder.transformer_encoder.layers.2.linear2.weight', 'encoder.transformer_encoder.layers.2.linear2.bias', 'encoder.transformer_encoder.layers.2.norm1.weight', 'encoder.transformer_encoder.layers.2.norm1.bias', 'encoder.transformer_encoder.layers.2.norm2.weight', 'encoder.transformer_encoder.layers.2.norm2.bias', 'encoder.transformer_encoder.layers.3.self_attn.in_proj_weight', 'encoder.transformer_encoder.layers.3.self_attn.in_proj_bias', 'encoder.transformer_encoder.layers.3.self_attn.out_proj.weight', 'encoder.transformer_encoder.layers.3.self_attn.out_proj.bias', 'encoder.transformer_encoder.layers.3.linear1.weight', 'encoder.transformer_encoder.layers.3.linear1.bias', 'encoder.transformer_encoder.layers.3.linear2.weight', 'encoder.transformer_encoder.layers.3.linear2.bias', 'encoder.transformer_encoder.layers.3.norm1.weight', 'encoder.transformer_encoder.layers.3.norm1.bias', 'encoder.transformer_encoder.layers.3.norm2.weight', 'encoder.transformer_encoder.layers.3.norm2.bias', 'mlp_head.0.weight', 'mlp_head.0.bias', 'mlp_head.1.weight', 'mlp_head.1.bias'])\n"
     ]
    }
   ],
   "source": [
    "import torch\n",
    "\n",
    "checkpoint_path = 'best_ViT.pth'\n",
    "checkpoint = torch.load(checkpoint_path, map_location=device, weights_only=True)\n",
    "print(\"Checkpoint type:\", type(checkpoint))\n",
    "\n",
    "if isinstance(checkpoint, dict):\n",
    "    print(\"Checkpoint keys:\", checkpoint.keys())\n",
    "else:\n",
    "    print(\"Checkpoint is not a dictionary.\")"
   ]
  }
 ],
 "metadata": {
  "kernelspec": {
   "display_name": "transformer_env",
   "language": "python",
   "name": "python3"
  },
  "language_info": {
   "codemirror_mode": {
    "name": "ipython",
    "version": 3
   },
   "file_extension": ".py",
   "mimetype": "text/x-python",
   "name": "python",
   "nbconvert_exporter": "python",
   "pygments_lexer": "ipython3",
   "version": "3.10.13"
  }
 },
 "nbformat": 4,
 "nbformat_minor": 2
}
