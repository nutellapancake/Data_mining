{
 "cells": [
  {
   "cell_type": "code",
   "execution_count": 4,
   "metadata": {},
   "outputs": [
    {
     "name": "stdout",
     "output_type": "stream",
     "text": [
      "Using device: cpu\n"
     ]
    }
   ],
   "source": [
    "# import\n",
    "import torch\n",
    "import torch.nn as nn\n",
    "from torchvision import datasets, transforms\n",
    "from torch.utils.data import DataLoader\n",
    "from tqdm import tqdm\n",
    "from models.vit import VisionTransformer\n",
    "device = torch.device('cuda' if torch.cuda.is_available() else 'cpu')\n",
    "print(f'Using device: {device}')\n",
    "import matplotlib.pyplot as plt\n",
    "import pickle\n",
    "import torch\n",
    "import torch.nn as nn\n",
    "import torch.optim as optim\n",
    "import torchvision\n",
    "from torchvision import datasets, transforms\n",
    "from torch.utils.data import DataLoader\n",
    "from tqdm import tqdm\n",
    "import numpy as np\n",
    "import os\n",
    "from sklearn.manifold import TSNE\n",
    "import seaborn as sns\n",
    "import sys\n",
    "import pickle\n",
    "import pandas as pd\n",
    "from sklearn.metrics import confusion_matrix"
   ]
  },
  {
   "cell_type": "code",
   "execution_count": 5,
   "metadata": {},
   "outputs": [],
   "source": [
    "#Define Data Transforms:\n",
    "\n",
    "transform_train = transforms.Compose([\n",
    "    transforms.RandomHorizontalFlip(),\n",
    "    transforms.RandomCrop(32, padding=4),\n",
    "    transforms.ToTensor(),\n",
    "    transforms.Normalize((0.4914, 0.4822, 0.4465),\n",
    "                         (0.2023, 0.1994, 0.2010))\n",
    "])\n",
    "\n",
    "transform_test = transforms.Compose([\n",
    "    transforms.ToTensor(),\n",
    "    transforms.Normalize((0.4914, 0.4822, 0.4465),\n",
    "                         (0.2023, 0.1994, 0.2010))\n",
    "])"
   ]
  },
  {
   "cell_type": "markdown",
   "metadata": {},
   "source": [
    "## Download data"
   ]
  },
  {
   "cell_type": "code",
   "execution_count": 6,
   "metadata": {},
   "outputs": [
    {
     "name": "stdout",
     "output_type": "stream",
     "text": [
      "Files already downloaded and verified\n",
      "Files already downloaded and verified\n"
     ]
    }
   ],
   "source": [
    "train_dataset = datasets.CIFAR10(\n",
    "    root='./data', train=True, download=True, transform=transform_train)\n",
    "\n",
    "test_dataset = datasets.CIFAR10(\n",
    "    root='./data', train=False, download=True, transform=transform_test)"
   ]
  },
  {
   "cell_type": "code",
   "execution_count": 7,
   "metadata": {},
   "outputs": [],
   "source": [
    "batch_size = 128\n",
    "\n",
    "train_loader = DataLoader(\n",
    "    train_dataset, batch_size=batch_size, shuffle=True, num_workers=4)\n",
    "\n",
    "test_loader = DataLoader(\n",
    "    test_dataset, batch_size=batch_size, shuffle=False, num_workers=4)"
   ]
  },
  {
   "cell_type": "markdown",
   "metadata": {},
   "source": [
    "Model"
   ]
  },
  {
   "cell_type": "code",
   "execution_count": 8,
   "metadata": {},
   "outputs": [
    {
     "name": "stderr",
     "output_type": "stream",
     "text": [
      "/Users/GuidoDeFilippo/Columbia/Data_Mining/transformer_env/lib/python3.10/site-packages/torch/nn/modules/transformer.py:307: UserWarning: enable_nested_tensor is True, but self.use_nested_tensor is False because encoder_layer.self_attn.batch_first was not True(use batch_first for better inference performance)\n",
      "  warnings.warn(f\"enable_nested_tensor is True, but self.use_nested_tensor is False because {why_not_sparsity_fast_path}\")\n"
     ]
    }
   ],
   "source": [
    "model = VisionTransformer(\n",
    "    img_size=32,\n",
    "    patch_size=4,\n",
    "    in_channels=3,\n",
    "    num_classes=10,\n",
    "    embed_dim=256,\n",
    "    num_heads=8,\n",
    "    hidden_dim=512,\n",
    "    num_layers=6,\n",
    "    dropout=0.1\n",
    ").to(device)"
   ]
  },
  {
   "cell_type": "code",
   "execution_count": 9,
   "metadata": {},
   "outputs": [],
   "source": [
    "criterion = nn.CrossEntropyLoss()\n",
    "optimizer = torch.optim.AdamW(model.parameters(), lr=0.001, weight_decay=0.01)"
   ]
  },
  {
   "cell_type": "code",
   "execution_count": 10,
   "metadata": {},
   "outputs": [
    {
     "name": "stderr",
     "output_type": "stream",
     "text": [
      "Epochs: 100%|██████████| 1/1 [06:22<00:00, 382.70s/it]\n"
     ]
    }
   ],
   "source": [
    "num_epochs = 1\n",
    "for epoch in tqdm(range(num_epochs), desc=\"Epochs\"):\n",
    "    model.train()\n",
    "    for images, labels in tqdm(train_loader, desc=f\"Training Epoch {epoch+1}\", leave=False):\n",
    "        images, labels = images.to(device), labels.to(device)\n",
    "        optimizer.zero_grad()\n",
    "        outputs = model(images)\n",
    "        loss = criterion(outputs, labels)\n",
    "        loss.backward()\n",
    "        optimizer.step()\n",
    "    # Validation and logging code here"
   ]
  },
  {
   "cell_type": "code",
   "execution_count": null,
   "metadata": {},
   "outputs": [],
   "source": [
    "from torchvision import datasets, transforms\n",
    "\n",
    "# Define the transform (you may already have this in your code)\n",
    "transform = transforms.Compose([\n",
    "    transforms.ToTensor(),\n",
    "    # Add any other transforms you are using\n",
    "])\n",
    "\n",
    "# Access the class labels\n",
    "class_labels = train_dataset.classes  # This is a list of class names\n",
    "class_to_idx = train_dataset.class_to_idx  # This is a dictionary mapping class names to indices\n",
    "\n",
    "print(\"Class Labels:\")\n",
    "for idx, label in enumerate(class_labels):\n",
    "    print(f\"{idx}: {label}\")"
   ]
  },
  {
   "cell_type": "code",
   "execution_count": null,
   "metadata": {},
   "outputs": [],
   "source": [
    "def imshow(img):\n",
    "    img = img / 2 + 0.5  # Unnormalize if you have normalized the images\n",
    "    npimg = img.numpy()\n",
    "    plt.imshow(np.transpose(npimg, (1, 2, 0)))\n",
    "    plt.axis('off')\n",
    "    plt.show()\n",
    "\n",
    "# Get some random training images\n",
    "dataiter = iter(train_loader)\n",
    "images, labels = next(dataiter)\n",
    "\n",
    "# Show images\n",
    "imshow(torchvision.utils.make_grid(images[:4]))\n",
    "\n",
    "# Print labels\n",
    "print('Labels:')\n",
    "for label in labels[:4]:\n",
    "    print(f\"{label.item()}: {class_labels[label]}\")"
   ]
  },
  {
   "cell_type": "code",
   "execution_count": null,
   "metadata": {},
   "outputs": [],
   "source": []
  },
  {
   "cell_type": "code",
   "execution_count": null,
   "metadata": {},
   "outputs": [
    {
     "name": "stdout",
     "output_type": "stream",
     "text": [
      "\n",
      "patch_embed\n",
      "patch_embed.proj\n",
      "pos_embed\n",
      "dropout\n",
      "encoder\n",
      "encoder.layers\n",
      "encoder.layers.0\n",
      "encoder.layers.0.self_attn\n",
      "encoder.layers.0.self_attn.query_proj\n",
      "encoder.layers.0.self_attn.key_proj\n",
      "encoder.layers.0.self_attn.value_proj\n",
      "encoder.layers.0.self_attn.out_proj\n",
      "encoder.layers.0.linear1\n",
      "encoder.layers.0.dropout\n",
      "encoder.layers.0.linear2\n",
      "encoder.layers.0.norm1\n",
      "encoder.layers.0.norm2\n",
      "encoder.layers.0.dropout1\n",
      "encoder.layers.0.dropout2\n",
      "encoder.layers.0.activation\n",
      "encoder.layers.1\n",
      "encoder.layers.1.self_attn\n",
      "encoder.layers.1.self_attn.query_proj\n",
      "encoder.layers.1.self_attn.key_proj\n",
      "encoder.layers.1.self_attn.value_proj\n",
      "encoder.layers.1.self_attn.out_proj\n",
      "encoder.layers.1.linear1\n",
      "encoder.layers.1.dropout\n",
      "encoder.layers.1.linear2\n",
      "encoder.layers.1.norm1\n",
      "encoder.layers.1.norm2\n",
      "encoder.layers.1.dropout1\n",
      "encoder.layers.1.dropout2\n",
      "encoder.layers.1.activation\n",
      "encoder.layers.2\n",
      "encoder.layers.2.self_attn\n",
      "encoder.layers.2.self_attn.query_proj\n",
      "encoder.layers.2.self_attn.key_proj\n",
      "encoder.layers.2.self_attn.value_proj\n",
      "encoder.layers.2.self_attn.out_proj\n",
      "encoder.layers.2.linear1\n",
      "encoder.layers.2.dropout\n",
      "encoder.layers.2.linear2\n",
      "encoder.layers.2.norm1\n",
      "encoder.layers.2.norm2\n",
      "encoder.layers.2.dropout1\n",
      "encoder.layers.2.dropout2\n",
      "encoder.layers.2.activation\n",
      "encoder.layers.3\n",
      "encoder.layers.3.self_attn\n",
      "encoder.layers.3.self_attn.query_proj\n",
      "encoder.layers.3.self_attn.key_proj\n",
      "encoder.layers.3.self_attn.value_proj\n",
      "encoder.layers.3.self_attn.out_proj\n",
      "encoder.layers.3.linear1\n",
      "encoder.layers.3.dropout\n",
      "encoder.layers.3.linear2\n",
      "encoder.layers.3.norm1\n",
      "encoder.layers.3.norm2\n",
      "encoder.layers.3.dropout1\n",
      "encoder.layers.3.dropout2\n",
      "encoder.layers.3.activation\n",
      "mlp_head\n",
      "mlp_head.0\n",
      "mlp_head.1\n"
     ]
    }
   ],
   "source": [
    "# Assuming 'vit_model' is your Vision Transformer model instance\n",
    "for name, module in relu_model.named_modules():\n",
    "    print(name)"
   ]
  },
  {
   "cell_type": "code",
   "execution_count": null,
   "metadata": {},
   "outputs": [
    {
     "data": {
      "image/png": "[encoded data removed]",
      "text/plain": [
       "<Figure size 640x480 with 1 Axes>"
      ]
     },
     "metadata": {},
     "output_type": "display_data"
    }
   ],
   "source": [
    "from torchcam.methods import GradCAM\n",
    "from torchvision.transforms.functional import to_pil_image\n",
    "\n",
    "# Initialize GradCAM with the desired layer\n",
    "cam_extractor = GradCAM(relu_model, target_layer='encoder.layers.3')\n",
    "\n",
    "# Prepare your image\n",
    "# Assuming 'image' is a PIL Image or tensor of shape [C, H, W]\n",
    "image_tensor = transform_test(image).unsqueeze(0).to(device)  # Add batch dimension and move to device\n",
    "\n",
    "# Forward pass\n",
    "outputs = relu_model(image_tensor)\n",
    "\n",
    "# Get the predicted class index\n",
    "pred_class = outputs.argmax(dim=1).item()\n",
    "\n",
    "# Retrieve the CAM by passing the class index and model outputs\n",
    "activation_map = cam_extractor(class_idx=pred_class, scores=outputs)\n",
    "\n",
    "# The activation_map is a list of activation maps for each target layer specified.\n",
    "# Since we have only one target layer, we can get the first element.\n",
    "activation_map = activation_map[0]\n",
    "\n",
    "# Convert image tensor back to PIL Image for visualization\n",
    "input_image = to_pil_image(image_tensor.squeeze(0).cpu())\n",
    "\n",
    "# Resize the activation map to match the input image size\n",
    "import torch.nn.functional as F\n",
    "activation_map_resized = F.interpolate(\n",
    "    activation_map.unsqueeze(0).unsqueeze(0), size=(input_image.size[1], input_image.size[0]), mode='bilinear', align_corners=False\n",
    ").squeeze().cpu().numpy()\n",
    "\n",
    "# Visualize the CAM overlayed on the input image\n",
    "plt.imshow(input_image)\n",
    "plt.imshow(activation_map_resized, cmap='jet', alpha=0.5)\n",
    "plt.axis('off')\n",
    "plt.show()"
   ]
  }
 ],
 "metadata": {
  "kernelspec": {
   "display_name": "transformer_env",
   "language": "python",
   "name": "python3"
  },
  "language_info": {
   "codemirror_mode": {
    "name": "ipython",
    "version": 3
   },
   "file_extension": ".py",
   "mimetype": "text/x-python",
   "name": "python",
   "nbconvert_exporter": "python",
   "pygments_lexer": "ipython3",
   "version": "3.10.13"
  }
 },
 "nbformat": 4,
 "nbformat_minor": 2
}
